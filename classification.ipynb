{
 "cells": [
  {
   "cell_type": "code",
   "execution_count": 101,
   "id": "3711ea87-4587-4e64-90bc-c42ee73748fc",
   "metadata": {
    "tags": []
   },
   "outputs": [],
   "source": [
    "import pandas as pd\n",
    "import matplotlib.pyplot as plt\n",
    "from tensorflow import keras\n",
    "from tensorflow.nn import softmax\n",
    "from keras.models import Sequential \n",
    "from keras.layers import Dense, BatchNormalization, Embedding, LSTM, Flatten, Dropout, Conv1D, GlobalMaxPooling1D\n",
    "from keras.metrics import Accuracy\n",
    "from keras import utils\n",
    "from sklearn.model_selection import train_test_split\n",
    "from sklearn.metrics import confusion_matrix\n",
    "import seaborn as sns\n",
    "import numpy as np"
   ]
  },
  {
   "cell_type": "markdown",
   "id": "b52be6e1-1833-48cd-9bcc-7597cd6292bb",
   "metadata": {},
   "source": [
    "#### Read data from csv"
   ]
  },
  {
   "cell_type": "code",
   "execution_count": 102,
   "id": "6c5fa461-3d74-45e8-9beb-2ef8da09bae5",
   "metadata": {},
   "outputs": [],
   "source": [
    "data = pd.read_csv(\"iotech2.csv\",index_col=0)"
   ]
  },
  {
   "cell_type": "markdown",
   "id": "c0598fc1-db97-415d-b94c-fa529b039d2f",
   "metadata": {},
   "source": [
    "#### Select inputs and labels"
   ]
  },
  {
   "cell_type": "code",
   "execution_count": 103,
   "id": "05b693ad-859a-487f-b3f1-86e62d42a3a8",
   "metadata": {},
   "outputs": [],
   "source": [
    "texts = data['Titles']\n",
    "labels = data['Category']"
   ]
  },
  {
   "cell_type": "markdown",
   "id": "df5efc1a-34ee-44af-8585-02a442baa901",
   "metadata": {},
   "source": [
    "#### Set max number of words in corpus and the max length of sentence (title)."
   ]
  },
  {
   "cell_type": "code",
   "execution_count": 104,
   "id": "6edb6f51-730b-4098-a94e-4a69cbc2be62",
   "metadata": {},
   "outputs": [],
   "source": [
    "NUM_WORDS = 10000\n",
    "MAX_TEXT_LEN = 10\n",
    "BATCH_SIZE=128"
   ]
  },
  {
   "cell_type": "markdown",
   "id": "2f3a4ad6-273d-43d7-b1c1-383254b9db9f",
   "metadata": {},
   "source": [
    "##### Create corpus"
   ]
  },
  {
   "cell_type": "code",
   "execution_count": 105,
   "id": "adda7748-4280-485f-8fb0-368558555ddf",
   "metadata": {},
   "outputs": [],
   "source": [
    "tokenizer =keras.preprocessing.text.Tokenizer(num_words=NUM_WORDS)\n",
    "tokenizer.fit_on_texts(texts)"
   ]
  },
  {
   "cell_type": "code",
   "execution_count": 106,
   "id": "9cb87920-2d00-4ba9-87a8-1e92ec221e1e",
   "metadata": {
    "tags": []
   },
   "outputs": [
    {
     "data": {
      "text/plain": [
       "[('ja', 1),\n",
       " ('f1', 2),\n",
       " ('gp', 3),\n",
       " ('2016', 4),\n",
       " ('2017', 5),\n",
       " ('auton', 6),\n",
       " ('the', 7),\n",
       " ('keskustelua', 8),\n",
       " ('onko', 9),\n",
       " ('2018', 10)]"
      ]
     },
     "execution_count": 106,
     "metadata": {},
     "output_type": "execute_result"
    }
   ],
   "source": [
    "word_count = 10\n",
    "keys = list(tokenizer.word_index.keys())[:word_count]\n",
    "values = list(tokenizer.word_index.values())[:word_count]\n",
    "list(zip(keys, values))"
   ]
  },
  {
   "cell_type": "code",
   "execution_count": 107,
   "id": "2fd34624-f8ae-4f09-9a91-f78ab3c5013e",
   "metadata": {
    "tags": []
   },
   "outputs": [],
   "source": [
    "sequences = tokenizer.texts_to_sequences(texts)\n",
    "X = keras.utils.pad_sequences(sequences, maxlen=MAX_TEXT_LEN)  # Standardization of the number of elements in a vector\n",
    "y = labels.copy()\n",
    "\n"
   ]
  },
  {
   "cell_type": "code",
   "execution_count": 108,
   "id": "2edb555a-2d12-4e71-9320-b43993b1c60e",
   "metadata": {},
   "outputs": [
    {
     "name": "stdout",
     "output_type": "stream",
     "text": [
      "[[  0   0   0 ... 446 971 513]\n",
      " [  0   0   0 ...   0 514 972]\n",
      " [445  42 973 ... 974 106 472]\n",
      " ...\n",
      " [  0   0   0 ... 223 224 225]\n",
      " [  0   0   0 ... 226   1 227]\n",
      " [  0   0   0 ...   0  15 228]]\n"
     ]
    }
   ],
   "source": [
    "print(X)"
   ]
  },
  {
   "cell_type": "markdown",
   "id": "92f31f24-3ca4-481c-b559-3ebf555262b0",
   "metadata": {},
   "source": [
    "#### Create training, validation and testing datasets"
   ]
  },
  {
   "cell_type": "code",
   "execution_count": 109,
   "id": "2f13ff29-d4fa-4377-a7c8-0f6ac9a7f510",
   "metadata": {},
   "outputs": [
    {
     "name": "stdout",
     "output_type": "stream",
     "text": [
      "Training sample size: 1960\n",
      "Test sample size: 312\n",
      "Val sample size: 841\n"
     ]
    }
   ],
   "source": [
    "X, X_test, y, y_test = train_test_split(X, y, test_size=0.1,random_state=107)\n",
    "X_train, X_val, y_train, y_val = train_test_split(X, y, test_size=0.3, random_state=107)\n",
    "print(f'Training sample size: {len(X_train)}')\n",
    "print(f'Test sample size: {len(X_test)}')\n",
    "print(f'Val sample size: {len(X_val)}')"
   ]
  },
  {
   "cell_type": "code",
   "execution_count": 110,
   "id": "f0680d5b-07e7-474c-8758-44505ac91151",
   "metadata": {},
   "outputs": [
    {
     "data": {
      "text/plain": [
       "(1960, 10)"
      ]
     },
     "execution_count": 110,
     "metadata": {},
     "output_type": "execute_result"
    }
   ],
   "source": [
    "X_train.shape"
   ]
  },
  {
   "cell_type": "code",
   "execution_count": 111,
   "id": "e04ca460-321b-4a14-a15f-45a4b537d7e6",
   "metadata": {},
   "outputs": [
    {
     "data": {
      "text/plain": [
       "5"
      ]
     },
     "execution_count": 111,
     "metadata": {},
     "output_type": "execute_result"
    }
   ],
   "source": [
    "len(y.unique())"
   ]
  },
  {
   "cell_type": "markdown",
   "id": "dcd03ebb-6149-4535-9c38-a5753d34b2f6",
   "metadata": {},
   "source": [
    "#### Neuarl networks for classification"
   ]
  },
  {
   "cell_type": "code",
   "execution_count": 112,
   "id": "0ce74bbb-86fe-4901-956e-d32d01d98ae9",
   "metadata": {},
   "outputs": [],
   "source": [
    "# LSTM model for classification.\n",
    "model = Sequential()\n",
    "model.add(Embedding(NUM_WORDS, 16, input_length=MAX_TEXT_LEN))\n",
    "model.add(Dropout(0.2))\n",
    "model.add(LSTM(8, return_sequences=True))\n",
    "model.add(BatchNormalization())\n",
    "model.add(LSTM(8))\n",
    "model.add(Dropout(0.2))\n",
    "model.add(Dense(5))\n",
    "\n",
    "# CNN just for reference. Not suited for text classification\n",
    "model2 = Sequential()\n",
    "model2.add(Embedding(NUM_WORDS, 64, input_length=MAX_TEXT_LEN))\n",
    "model2.add(Dropout(0.2))\n",
    "model2.add(Conv1D(32,\n",
    "                 5,\n",
    "                 padding='same',\n",
    "                 activation='relu',\n",
    "                 strides=1))\n",
    "# we use max pooling:\n",
    "model2.add(GlobalMaxPooling1D())\n",
    "model2.add(Dropout(0.2))\n",
    "model2.add(Dense(32,activation='relu'))\n",
    "model2.add(Dropout(0.2))\n",
    "model2.add(Dense(5))\n",
    "\n"
   ]
  },
  {
   "cell_type": "code",
   "execution_count": 113,
   "id": "7ce1960a-dba6-4341-8afa-dd0508cc9d81",
   "metadata": {},
   "outputs": [
    {
     "name": "stdout",
     "output_type": "stream",
     "text": [
      "Model: \"sequential_8\"\n",
      "_________________________________________________________________\n",
      " Layer (type)                Output Shape              Param #   \n",
      "=================================================================\n",
      " embedding_8 (Embedding)     (None, 10, 16)            160000    \n",
      "                                                                 \n",
      " dropout_14 (Dropout)        (None, 10, 16)            0         \n",
      "                                                                 \n",
      " lstm_8 (LSTM)               (None, 10, 8)             800       \n",
      "                                                                 \n",
      " batch_normalization_4 (Batc  (None, 10, 8)            32        \n",
      " hNormalization)                                                 \n",
      "                                                                 \n",
      " lstm_9 (LSTM)               (None, 8)                 544       \n",
      "                                                                 \n",
      " dropout_15 (Dropout)        (None, 8)                 0         \n",
      "                                                                 \n",
      " dense_12 (Dense)            (None, 5)                 45        \n",
      "                                                                 \n",
      "=================================================================\n",
      "Total params: 161,421\n",
      "Trainable params: 161,405\n",
      "Non-trainable params: 16\n",
      "_________________________________________________________________\n"
     ]
    }
   ],
   "source": [
    "model.summary()"
   ]
  },
  {
   "cell_type": "code",
   "execution_count": 114,
   "id": "7292b6e1-91ce-43a9-b784-14fb1bc45e0a",
   "metadata": {},
   "outputs": [
    {
     "name": "stdout",
     "output_type": "stream",
     "text": [
      "Model: \"sequential_9\"\n",
      "_________________________________________________________________\n",
      " Layer (type)                Output Shape              Param #   \n",
      "=================================================================\n",
      " embedding_9 (Embedding)     (None, 10, 64)            640000    \n",
      "                                                                 \n",
      " dropout_16 (Dropout)        (None, 10, 64)            0         \n",
      "                                                                 \n",
      " conv1d_4 (Conv1D)           (None, 10, 32)            10272     \n",
      "                                                                 \n",
      " global_max_pooling1d_4 (Glo  (None, 32)               0         \n",
      " balMaxPooling1D)                                                \n",
      "                                                                 \n",
      " dropout_17 (Dropout)        (None, 32)                0         \n",
      "                                                                 \n",
      " dense_13 (Dense)            (None, 32)                1056      \n",
      "                                                                 \n",
      " dropout_18 (Dropout)        (None, 32)                0         \n",
      "                                                                 \n",
      " dense_14 (Dense)            (None, 5)                 165       \n",
      "                                                                 \n",
      "=================================================================\n",
      "Total params: 651,493\n",
      "Trainable params: 651,493\n",
      "Non-trainable params: 0\n",
      "_________________________________________________________________\n"
     ]
    }
   ],
   "source": [
    "model2.summary()"
   ]
  },
  {
   "cell_type": "markdown",
   "id": "82808102-a3fe-48a6-968c-5f7a9c38681f",
   "metadata": {},
   "source": [
    "#### Creating callback to stop training proses when val_loss stops decreasing\n",
    "#### Also creating class weights to balance data inbalances"
   ]
  },
  {
   "cell_type": "code",
   "execution_count": 115,
   "id": "93f7633d-500e-4210-9f24-5aae1bde359d",
   "metadata": {},
   "outputs": [],
   "source": [
    "callbacks = [\n",
    "    keras.callbacks.EarlyStopping(monitor='val_loss', min_delta=0.01, patience=10, verbose=1),  \n",
    "    keras.callbacks.ReduceLROnPlateau(monitor='val_loss', factor=0.1, min_delta=0.01, min_lr=1e-10, patience=3, verbose=1, mode='auto')\n",
    "]\n",
    "class_weights={0:1.,1:1.,2:1.,3:1.,4:1.,5:1}"
   ]
  },
  {
   "cell_type": "code",
   "execution_count": 116,
   "id": "8a5dd9eb-8135-471c-9bc7-82f14643d29a",
   "metadata": {},
   "outputs": [],
   "source": [
    "model.compile(metrics=['accuracy'], loss=keras.losses.SparseCategoricalCrossentropy(from_logits=True), optimizer='rmsprop')"
   ]
  },
  {
   "cell_type": "markdown",
   "id": "651cce95-cbd9-4938-bb7f-52e8b43b23fb",
   "metadata": {},
   "source": [
    "#### Training the model"
   ]
  },
  {
   "cell_type": "code",
   "execution_count": 117,
   "id": "730bc00a-fd51-4825-a374-a14c9ec89cc9",
   "metadata": {
    "tags": []
   },
   "outputs": [
    {
     "name": "stdout",
     "output_type": "stream",
     "text": [
      "Epoch 1/40\n",
      "16/16 [==============================] - 3s 47ms/step - loss: 1.5020 - accuracy: 0.4112 - val_loss: 1.5733 - val_accuracy: 0.4554 - lr: 0.0010\n",
      "Epoch 2/40\n",
      "16/16 [==============================] - 0s 9ms/step - loss: 1.3227 - accuracy: 0.5750 - val_loss: 1.5573 - val_accuracy: 0.4614 - lr: 0.0010\n",
      "Epoch 3/40\n",
      "16/16 [==============================] - 0s 9ms/step - loss: 1.1533 - accuracy: 0.6449 - val_loss: 1.5392 - val_accuracy: 0.3722 - lr: 0.0010\n",
      "Epoch 4/40\n",
      "16/16 [==============================] - 0s 9ms/step - loss: 1.0204 - accuracy: 0.7015 - val_loss: 1.5195 - val_accuracy: 0.5291 - lr: 0.0010\n",
      "Epoch 5/40\n",
      "16/16 [==============================] - 0s 8ms/step - loss: 0.9022 - accuracy: 0.7429 - val_loss: 1.4967 - val_accuracy: 0.4946 - lr: 0.0010\n",
      "Epoch 6/40\n",
      "16/16 [==============================] - 0s 8ms/step - loss: 0.8025 - accuracy: 0.7679 - val_loss: 1.4744 - val_accuracy: 0.5339 - lr: 0.0010\n",
      "Epoch 7/40\n",
      "16/16 [==============================] - 0s 8ms/step - loss: 0.7223 - accuracy: 0.7862 - val_loss: 1.4354 - val_accuracy: 0.5398 - lr: 0.0010\n",
      "Epoch 8/40\n",
      "16/16 [==============================] - 0s 8ms/step - loss: 0.6540 - accuracy: 0.8087 - val_loss: 1.4100 - val_accuracy: 0.6278 - lr: 0.0010\n",
      "Epoch 9/40\n",
      "16/16 [==============================] - 0s 8ms/step - loss: 0.5898 - accuracy: 0.8235 - val_loss: 1.3734 - val_accuracy: 0.6302 - lr: 0.0010\n",
      "Epoch 10/40\n",
      "16/16 [==============================] - 0s 8ms/step - loss: 0.5321 - accuracy: 0.8352 - val_loss: 1.3320 - val_accuracy: 0.5874 - lr: 0.0010\n",
      "Epoch 11/40\n",
      "16/16 [==============================] - 0s 8ms/step - loss: 0.4795 - accuracy: 0.8474 - val_loss: 1.2979 - val_accuracy: 0.6136 - lr: 0.0010\n",
      "Epoch 12/40\n",
      "16/16 [==============================] - 0s 8ms/step - loss: 0.4225 - accuracy: 0.8730 - val_loss: 1.2456 - val_accuracy: 0.6980 - lr: 0.0010\n",
      "Epoch 13/40\n",
      "16/16 [==============================] - 0s 8ms/step - loss: 0.3969 - accuracy: 0.8908 - val_loss: 1.1960 - val_accuracy: 0.6219 - lr: 0.0010\n",
      "Epoch 14/40\n",
      "16/16 [==============================] - 0s 9ms/step - loss: 0.3476 - accuracy: 0.9122 - val_loss: 1.1232 - val_accuracy: 0.7099 - lr: 0.0010\n",
      "Epoch 15/40\n",
      "16/16 [==============================] - 0s 8ms/step - loss: 0.3069 - accuracy: 0.9337 - val_loss: 1.0618 - val_accuracy: 0.7289 - lr: 0.0010\n",
      "Epoch 16/40\n",
      "16/16 [==============================] - 0s 8ms/step - loss: 0.2817 - accuracy: 0.9469 - val_loss: 0.9946 - val_accuracy: 0.7348 - lr: 0.0010\n",
      "Epoch 17/40\n",
      "16/16 [==============================] - 0s 8ms/step - loss: 0.2574 - accuracy: 0.9526 - val_loss: 0.9499 - val_accuracy: 0.7467 - lr: 0.0010\n",
      "Epoch 18/40\n",
      "16/16 [==============================] - 0s 8ms/step - loss: 0.2306 - accuracy: 0.9638 - val_loss: 0.8876 - val_accuracy: 0.7408 - lr: 0.0010\n",
      "Epoch 19/40\n",
      "16/16 [==============================] - 0s 8ms/step - loss: 0.2070 - accuracy: 0.9750 - val_loss: 0.8585 - val_accuracy: 0.7598 - lr: 0.0010\n",
      "Epoch 20/40\n",
      "16/16 [==============================] - 0s 8ms/step - loss: 0.1890 - accuracy: 0.9755 - val_loss: 0.8804 - val_accuracy: 0.7229 - lr: 0.0010\n",
      "Epoch 21/40\n",
      "16/16 [==============================] - 0s 9ms/step - loss: 0.1795 - accuracy: 0.9755 - val_loss: 0.7607 - val_accuracy: 0.7669 - lr: 0.0010\n",
      "Epoch 22/40\n",
      "16/16 [==============================] - 0s 9ms/step - loss: 0.1592 - accuracy: 0.9776 - val_loss: 0.8543 - val_accuracy: 0.6754 - lr: 0.0010\n",
      "Epoch 23/40\n",
      "16/16 [==============================] - 0s 9ms/step - loss: 0.1521 - accuracy: 0.9827 - val_loss: 0.8370 - val_accuracy: 0.6742 - lr: 0.0010\n",
      "Epoch 24/40\n",
      "16/16 [==============================] - 0s 9ms/step - loss: 0.1404 - accuracy: 0.9811 - val_loss: 0.7304 - val_accuracy: 0.7503 - lr: 0.0010\n",
      "Epoch 25/40\n",
      "16/16 [==============================] - 0s 9ms/step - loss: 0.1335 - accuracy: 0.9867 - val_loss: 0.6867 - val_accuracy: 0.7658 - lr: 0.0010\n",
      "Epoch 26/40\n",
      "16/16 [==============================] - 0s 8ms/step - loss: 0.1200 - accuracy: 0.9893 - val_loss: 0.7120 - val_accuracy: 0.7693 - lr: 0.0010\n",
      "Epoch 27/40\n",
      "16/16 [==============================] - 0s 9ms/step - loss: 0.1130 - accuracy: 0.9832 - val_loss: 0.6668 - val_accuracy: 0.7669 - lr: 0.0010\n",
      "Epoch 28/40\n",
      "16/16 [==============================] - 0s 8ms/step - loss: 0.1049 - accuracy: 0.9908 - val_loss: 0.6845 - val_accuracy: 0.7729 - lr: 0.0010\n",
      "Epoch 29/40\n",
      "16/16 [==============================] - 0s 9ms/step - loss: 0.0985 - accuracy: 0.9929 - val_loss: 0.6927 - val_accuracy: 0.7610 - lr: 0.0010\n",
      "Epoch 30/40\n",
      "16/16 [==============================] - 0s 9ms/step - loss: 0.0959 - accuracy: 0.9872 - val_loss: 0.6568 - val_accuracy: 0.7705 - lr: 0.0010\n",
      "Epoch 31/40\n",
      "16/16 [==============================] - 0s 8ms/step - loss: 0.0858 - accuracy: 0.9929 - val_loss: 0.6877 - val_accuracy: 0.7669 - lr: 0.0010\n",
      "Epoch 32/40\n",
      "16/16 [==============================] - 0s 8ms/step - loss: 0.0886 - accuracy: 0.9867 - val_loss: 0.6699 - val_accuracy: 0.7741 - lr: 0.0010\n",
      "Epoch 33/40\n",
      "10/16 [=================>............] - ETA: 0s - loss: 0.0840 - accuracy: 0.9852\n",
      "Epoch 33: ReduceLROnPlateau reducing learning rate to 0.00010000000474974513.\n",
      "16/16 [==============================] - 0s 8ms/step - loss: 0.0852 - accuracy: 0.9857 - val_loss: 0.6789 - val_accuracy: 0.7753 - lr: 0.0010\n",
      "Epoch 34/40\n",
      "16/16 [==============================] - 0s 8ms/step - loss: 0.0746 - accuracy: 0.9913 - val_loss: 0.6901 - val_accuracy: 0.7765 - lr: 1.0000e-04\n",
      "Epoch 35/40\n",
      "16/16 [==============================] - 0s 8ms/step - loss: 0.0736 - accuracy: 0.9923 - val_loss: 0.6985 - val_accuracy: 0.7741 - lr: 1.0000e-04\n",
      "Epoch 36/40\n",
      " 9/16 [===============>..............] - ETA: 0s - loss: 0.0734 - accuracy: 0.9913\n",
      "Epoch 36: ReduceLROnPlateau reducing learning rate to 1.0000000474974514e-05.\n",
      "16/16 [==============================] - 0s 9ms/step - loss: 0.0775 - accuracy: 0.9878 - val_loss: 0.7105 - val_accuracy: 0.7705 - lr: 1.0000e-04\n",
      "Epoch 37/40\n",
      "16/16 [==============================] - 0s 8ms/step - loss: 0.0690 - accuracy: 0.9959 - val_loss: 0.7167 - val_accuracy: 0.7729 - lr: 1.0000e-05\n",
      "Epoch 38/40\n",
      "16/16 [==============================] - 0s 8ms/step - loss: 0.0669 - accuracy: 0.9954 - val_loss: 0.7227 - val_accuracy: 0.7717 - lr: 1.0000e-05\n",
      "Epoch 39/40\n",
      " 9/16 [===============>..............] - ETA: 0s - loss: 0.0735 - accuracy: 0.9957\n",
      "Epoch 39: ReduceLROnPlateau reducing learning rate to 1.0000000656873453e-06.\n",
      "16/16 [==============================] - 0s 8ms/step - loss: 0.0708 - accuracy: 0.9944 - val_loss: 0.7285 - val_accuracy: 0.7705 - lr: 1.0000e-05\n",
      "Epoch 40/40\n",
      "16/16 [==============================] - 0s 8ms/step - loss: 0.0729 - accuracy: 0.9923 - val_loss: 0.7338 - val_accuracy: 0.7705 - lr: 1.0000e-06\n",
      "Epoch 40: early stopping\n"
     ]
    }
   ],
   "source": [
    "history = model.fit(X_train, y_train, batch_size=BATCH_SIZE, epochs=40, class_weight=class_weights, callbacks=callbacks,validation_data=(X_val,y_val))"
   ]
  },
  {
   "cell_type": "markdown",
   "id": "7652dda5-1612-496a-96eb-621df7bcf531",
   "metadata": {},
   "source": [
    "#### Crating some function to tests the trained model"
   ]
  },
  {
   "cell_type": "code",
   "execution_count": 118,
   "id": "a9bb2245-22ba-4bce-bc95-6a137097a98d",
   "metadata": {},
   "outputs": [],
   "source": [
    "class_names=[\n",
    "\"Prosessorit, ylikellotus, emolevyt ja muistit\",\n",
    "\"Näytönohjaimet\",\n",
    "\"Tallennus\",\n",
    "\"Kotelot ja virtalähteet\",\n",
    "\"Jäähdytys\",\n",
    "\"Konepaketit\",\n",
    "\"Kannettavat tietokoneet\",\n",
    "\"Buildit, setupit, kotelomodifikaatiot & DIY\",\n",
    "\"Oheislaitteet ja muut PC-komponentit\"\n",
    "]\n",
    "class_names2=[\n",
    "\"Autot ja liikenne\",\n",
    "\"Urheilu\",\n",
    "\"TV- & nettisarjat, elokuvat ja musiikki\",\n",
    "\"Ruoka & juoma\",\n",
    "\"Koti ja asuminen\",\n",
    "]"
   ]
  },
  {
   "cell_type": "code",
   "execution_count": 119,
   "id": "f861892e-8377-4e3f-8fd1-907fd593d2fc",
   "metadata": {},
   "outputs": [
    {
     "data": {
      "text/plain": [
       "['Autot ja liikenne',\n",
       " 'Urheilu',\n",
       " 'TV- & nettisarjat, elokuvat ja musiikki',\n",
       " 'Ruoka & juoma',\n",
       " 'Koti ja asuminen']"
      ]
     },
     "execution_count": 119,
     "metadata": {},
     "output_type": "execute_result"
    }
   ],
   "source": [
    "class_names2"
   ]
  },
  {
   "cell_type": "code",
   "execution_count": 120,
   "id": "51774e2a-6f41-4154-be3a-fd049b02b1bc",
   "metadata": {},
   "outputs": [
    {
     "name": "stdout",
     "output_type": "stream",
     "text": [
      "10/10 [==============================] - 1s 2ms/step\n",
      "This text most likely belongs to TV- & nettisarjat, elokuvat ja musiikki with a 97.25 percent confidence.\n"
     ]
    }
   ],
   "source": [
    "predictions=model.predict(X_test)\n",
    "score = softmax(predictions[0])\n",
    "print(\n",
    "    \"This text most likely belongs to {} with a {:.2f} percent confidence.\"\n",
    "    .format(class_names2[np.argmax(score)], 100 * np.max(score))\n",
    ")\n"
   ]
  },
  {
   "cell_type": "code",
   "execution_count": 121,
   "id": "9588ec27-068c-491d-8844-f6b0213509bf",
   "metadata": {},
   "outputs": [
    {
     "name": "stdout",
     "output_type": "stream",
     "text": [
      "[-0.30520305 -1.899174    4.902777   -2.5772963   1.0474505 ]\n"
     ]
    }
   ],
   "source": [
    "print(predictions[0])"
   ]
  },
  {
   "cell_type": "code",
   "execution_count": 122,
   "id": "7dbc40c0-fcc6-40cf-b329-2a74fb53d6ee",
   "metadata": {},
   "outputs": [],
   "source": [
    "def ml_pipeline(text: str,ml_model) -> str:\n",
    "    \"\"\"LSTM model prediction function for this sample\"\"\"\n",
    "    try:\n",
    "        sequence = tokenizer.texts_to_sequences([text])\n",
    "        sequence = keras.utils.pad_sequences(sequence, maxlen=MAX_TEXT_LEN)\n",
    "        if sequence.max() == 0:\n",
    "            return 'Enter the words in English'\n",
    "        else:\n",
    "            predict = ml_model.predict(sequence, verbose=0)\n",
    "            score = softmax(predict)\n",
    "            print(predict)\n",
    "            return class_names2[np.argmax(score)]\n",
    "        \n",
    "    except AttributeError as AE:\n",
    "        print(AE)\n",
    "        return 'Enter the text'\n",
    "\n"
   ]
  },
  {
   "cell_type": "code",
   "execution_count": 128,
   "id": "1d0b48f8-184c-4ced-854b-194f6309c15f",
   "metadata": {},
   "outputs": [
    {
     "name": "stdout",
     "output_type": "stream",
     "text": [
      "[[-1.0146415   0.22125839 -0.4810922   2.1169562   2.0607998 ]]\n"
     ]
    },
    {
     "data": {
      "text/plain": [
       "'Ruoka & juoma'"
      ]
     },
     "execution_count": 128,
     "metadata": {},
     "output_type": "execute_result"
    }
   ],
   "source": [
    " ml_pipeline('Harvemmin ostan kasviksia, mutta jos ostan niin olutta',model)"
   ]
  },
  {
   "cell_type": "code",
   "execution_count": 124,
   "id": "e940dfd9-56c1-491f-ad6a-e7965b2bbefe",
   "metadata": {},
   "outputs": [
    {
     "data": {
      "text/plain": [
       "3    893\n",
       "0    873\n",
       "2    581\n",
       "1    404\n",
       "4    362\n",
       "Name: Category, dtype: int64"
      ]
     },
     "execution_count": 124,
     "metadata": {},
     "output_type": "execute_result"
    }
   ],
   "source": [
    "data['Category'].value_counts()"
   ]
  },
  {
   "cell_type": "code",
   "execution_count": null,
   "id": "29b46217-78b1-4c16-a9b8-4c4b7687ce15",
   "metadata": {},
   "outputs": [],
   "source": []
  }
 ],
 "metadata": {
  "kernelspec": {
   "display_name": "Python 3 (ipykernel)",
   "language": "python",
   "name": "python3"
  },
  "language_info": {
   "codemirror_mode": {
    "name": "ipython",
    "version": 3
   },
   "file_extension": ".py",
   "mimetype": "text/x-python",
   "name": "python",
   "nbconvert_exporter": "python",
   "pygments_lexer": "ipython3",
   "version": "3.11.0"
  }
 },
 "nbformat": 4,
 "nbformat_minor": 5
}
