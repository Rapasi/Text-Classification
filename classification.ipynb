{
 "cells": [
  {
   "cell_type": "code",
   "execution_count": 20,
   "id": "3711ea87-4587-4e64-90bc-c42ee73748fc",
   "metadata": {
    "tags": []
   },
   "outputs": [],
   "source": [
    "import pandas as pd\n",
    "from libvoikko import Voikko\n",
    "import matplotlib.pyplot as plt\n",
    "from tensorflow import keras\n",
    "from tensorflow.nn import softmax\n",
    "from keras.models import Sequential \n",
    "from keras.layers import Dense, BatchNormalization, Embedding, LSTM, Flatten, Dropout, Conv1D, GlobalMaxPooling1D, Bidirectional\n",
    "from keras.metrics import Accuracy\n",
    "from keras import utils\n",
    "from sklearn.model_selection import train_test_split\n",
    "from sklearn.metrics import confusion_matrix\n",
    "import seaborn as sns\n",
    "import numpy as np"
   ]
  },
  {
   "cell_type": "markdown",
   "id": "b52be6e1-1833-48cd-9bcc-7597cd6292bb",
   "metadata": {},
   "source": [
    "#### Read data from csv"
   ]
  },
  {
   "cell_type": "code",
   "execution_count": 2,
   "id": "6c5fa461-3d74-45e8-9beb-2ef8da09bae5",
   "metadata": {},
   "outputs": [],
   "source": [
    "data = pd.read_csv(\"iotech2.csv\",index_col=0)"
   ]
  },
  {
   "cell_type": "code",
   "execution_count": 3,
   "id": "17a7fb07-b6bb-41d3-a3c4-fec668d95e19",
   "metadata": {},
   "outputs": [
    {
     "data": {
      "text/html": [
       "<div>\n",
       "<style scoped>\n",
       "    .dataframe tbody tr th:only-of-type {\n",
       "        vertical-align: middle;\n",
       "    }\n",
       "\n",
       "    .dataframe tbody tr th {\n",
       "        vertical-align: top;\n",
       "    }\n",
       "\n",
       "    .dataframe thead th {\n",
       "        text-align: right;\n",
       "    }\n",
       "</style>\n",
       "<table border=\"1\" class=\"dataframe\">\n",
       "  <thead>\n",
       "    <tr style=\"text-align: right;\">\n",
       "      <th></th>\n",
       "      <th>Titles</th>\n",
       "      <th>Category</th>\n",
       "    </tr>\n",
       "  </thead>\n",
       "  <tbody>\n",
       "    <tr>\n",
       "      <th>0</th>\n",
       "      <td>Kysymyksiä &amp; Vastauksia</td>\n",
       "      <td>0</td>\n",
       "    </tr>\n",
       "    <tr>\n",
       "      <th>1</th>\n",
       "      <td>Omat autot -esittelythread! (KESKUSTELUA VAIN ...</td>\n",
       "      <td>0</td>\n",
       "    </tr>\n",
       "    <tr>\n",
       "      <th>2</th>\n",
       "      <td>Omat autot -keskusteluketju! Yleinen ja offtop...</td>\n",
       "      <td>0</td>\n",
       "    </tr>\n",
       "    <tr>\n",
       "      <th>3</th>\n",
       "      <td>Mikä ärsyttää kanssa-autoilijoissa?</td>\n",
       "      <td>0</td>\n",
       "    </tr>\n",
       "    <tr>\n",
       "      <th>4</th>\n",
       "      <td>Taasko se romu on hajalla? Täällä korjataan au...</td>\n",
       "      <td>0</td>\n",
       "    </tr>\n",
       "    <tr>\n",
       "      <th>...</th>\n",
       "      <td>...</td>\n",
       "      <td>...</td>\n",
       "    </tr>\n",
       "    <tr>\n",
       "      <th>385</th>\n",
       "      <td>Valvontakamera ulkokäyttöön</td>\n",
       "      <td>4</td>\n",
       "    </tr>\n",
       "    <tr>\n",
       "      <th>386</th>\n",
       "      <td>Kotivakuutuksen enimmäiskorvauksien arviointi</td>\n",
       "      <td>4</td>\n",
       "    </tr>\n",
       "    <tr>\n",
       "      <th>387</th>\n",
       "      <td>Paras alle 200e maksava ulkovalvontakamera?</td>\n",
       "      <td>4</td>\n",
       "    </tr>\n",
       "    <tr>\n",
       "      <th>388</th>\n",
       "      <td>Höyrymopit ja lattiapesurit</td>\n",
       "      <td>4</td>\n",
       "    </tr>\n",
       "    <tr>\n",
       "      <th>389</th>\n",
       "      <td>TV antenneista...</td>\n",
       "      <td>4</td>\n",
       "    </tr>\n",
       "  </tbody>\n",
       "</table>\n",
       "<p>3199 rows × 2 columns</p>\n",
       "</div>"
      ],
      "text/plain": [
       "                                                Titles  Category\n",
       "0                              Kysymyksiä & Vastauksia         0\n",
       "1    Omat autot -esittelythread! (KESKUSTELUA VAIN ...         0\n",
       "2    Omat autot -keskusteluketju! Yleinen ja offtop...         0\n",
       "3                  Mikä ärsyttää kanssa-autoilijoissa?         0\n",
       "4    Taasko se romu on hajalla? Täällä korjataan au...         0\n",
       "..                                                 ...       ...\n",
       "385                        Valvontakamera ulkokäyttöön         4\n",
       "386      Kotivakuutuksen enimmäiskorvauksien arviointi         4\n",
       "387        Paras alle 200e maksava ulkovalvontakamera?         4\n",
       "388                        Höyrymopit ja lattiapesurit         4\n",
       "389                                  TV antenneista...         4\n",
       "\n",
       "[3199 rows x 2 columns]"
      ]
     },
     "execution_count": 3,
     "metadata": {},
     "output_type": "execute_result"
    }
   ],
   "source": [
    "data"
   ]
  },
  {
   "cell_type": "markdown",
   "id": "c0598fc1-db97-415d-b94c-fa529b039d2f",
   "metadata": {},
   "source": [
    "#### Select inputs and labels"
   ]
  },
  {
   "cell_type": "code",
   "execution_count": 4,
   "id": "05b693ad-859a-487f-b3f1-86e62d42a3a8",
   "metadata": {},
   "outputs": [],
   "source": [
    "texts = data['Titles']\n",
    "labels = data['Category']"
   ]
  },
  {
   "cell_type": "markdown",
   "id": "df5efc1a-34ee-44af-8585-02a442baa901",
   "metadata": {},
   "source": [
    "#### Set max number of words in corpus and the max length of sentence (title)."
   ]
  },
  {
   "cell_type": "code",
   "execution_count": 5,
   "id": "3e4b114e-fdc0-4b7a-bf73-8936b193f04a",
   "metadata": {},
   "outputs": [],
   "source": [
    "Voikko.setLibrarySearchPath('D:\\Libvoikko')\n",
    "v=Voikko(language=u'fi',path='D:\\Libvoikko')"
   ]
  },
  {
   "cell_type": "code",
   "execution_count": 6,
   "id": "6b35c909-d5a1-4d7c-a573-efc3bed681ae",
   "metadata": {},
   "outputs": [],
   "source": [
    "def base_form(text):\n",
    "    line=''\n",
    "    txt = text.lower().replace(\".\", \"\").replace(\",\", \"\")\n",
    "    word_list = txt.split(\" \")\n",
    "    for w in word_list:\n",
    "        voikko_dict = v.analyze(w)\n",
    "    #Extract the base form, if the word is recognized\n",
    "        if voikko_dict:\n",
    "            bf_word = voikko_dict[0]['BASEFORM']\n",
    "    #If word is not recognized, add the original word\n",
    "        else:\n",
    "            bf_word = w\n",
    "\n",
    "        line+=bf_word+' '\n",
    "    return line"
   ]
  },
  {
   "cell_type": "code",
   "execution_count": 7,
   "id": "78e69f98-c8f3-4248-9d33-053425a8087c",
   "metadata": {},
   "outputs": [],
   "source": [
    "data['Titles'] = data['Titles'].apply(lambda word:base_form(word))"
   ]
  },
  {
   "cell_type": "code",
   "execution_count": 8,
   "id": "387c9034-73c6-432e-98a7-7f90a12ecfb8",
   "metadata": {},
   "outputs": [
    {
     "data": {
      "text/html": [
       "<div>\n",
       "<style scoped>\n",
       "    .dataframe tbody tr th:only-of-type {\n",
       "        vertical-align: middle;\n",
       "    }\n",
       "\n",
       "    .dataframe tbody tr th {\n",
       "        vertical-align: top;\n",
       "    }\n",
       "\n",
       "    .dataframe thead th {\n",
       "        text-align: right;\n",
       "    }\n",
       "</style>\n",
       "<table border=\"1\" class=\"dataframe\">\n",
       "  <thead>\n",
       "    <tr style=\"text-align: right;\">\n",
       "      <th></th>\n",
       "      <th>Titles</th>\n",
       "      <th>Category</th>\n",
       "    </tr>\n",
       "  </thead>\n",
       "  <tbody>\n",
       "    <tr>\n",
       "      <th>0</th>\n",
       "      <td>kysymys &amp; vastaus</td>\n",
       "      <td>0</td>\n",
       "    </tr>\n",
       "    <tr>\n",
       "      <th>1</th>\n",
       "      <td>oma Autto -esittelythread! (keskustelua vain e...</td>\n",
       "      <td>0</td>\n",
       "    </tr>\n",
       "    <tr>\n",
       "      <th>2</th>\n",
       "      <td>oma Autto -keskusteluketju! yleinen ja offtopi...</td>\n",
       "      <td>0</td>\n",
       "    </tr>\n",
       "    <tr>\n",
       "      <th>3</th>\n",
       "      <td>mikä ärsyttää kanssa-autoilijoissa?</td>\n",
       "      <td>0</td>\n",
       "    </tr>\n",
       "    <tr>\n",
       "      <th>4</th>\n",
       "      <td>taas se romu olla hajalla? täällä korjata auto</td>\n",
       "      <td>0</td>\n",
       "    </tr>\n",
       "    <tr>\n",
       "      <th>...</th>\n",
       "      <td>...</td>\n",
       "      <td>...</td>\n",
       "    </tr>\n",
       "    <tr>\n",
       "      <th>385</th>\n",
       "      <td>valvontakamera ulkokäyttö</td>\n",
       "      <td>4</td>\n",
       "    </tr>\n",
       "    <tr>\n",
       "      <th>386</th>\n",
       "      <td>kotivakuutus enimmäiskorvaus arviointi</td>\n",
       "      <td>4</td>\n",
       "    </tr>\n",
       "    <tr>\n",
       "      <th>387</th>\n",
       "      <td>hyvä alla 200e maksava ulkovalvontakamera?</td>\n",
       "      <td>4</td>\n",
       "    </tr>\n",
       "    <tr>\n",
       "      <th>388</th>\n",
       "      <td>höyrymoppi ja lattiapesuri</td>\n",
       "      <td>4</td>\n",
       "    </tr>\n",
       "    <tr>\n",
       "      <th>389</th>\n",
       "      <td>TV antenni</td>\n",
       "      <td>4</td>\n",
       "    </tr>\n",
       "  </tbody>\n",
       "</table>\n",
       "<p>3199 rows × 2 columns</p>\n",
       "</div>"
      ],
      "text/plain": [
       "                                                Titles  Category\n",
       "0                                   kysymys & vastaus          0\n",
       "1    oma Autto -esittelythread! (keskustelua vain e...         0\n",
       "2    oma Autto -keskusteluketju! yleinen ja offtopi...         0\n",
       "3                 mikä ärsyttää kanssa-autoilijoissa?          0\n",
       "4      taas se romu olla hajalla? täällä korjata auto          0\n",
       "..                                                 ...       ...\n",
       "385                         valvontakamera ulkokäyttö          4\n",
       "386            kotivakuutus enimmäiskorvaus arviointi          4\n",
       "387        hyvä alla 200e maksava ulkovalvontakamera?          4\n",
       "388                        höyrymoppi ja lattiapesuri          4\n",
       "389                                        TV antenni          4\n",
       "\n",
       "[3199 rows x 2 columns]"
      ]
     },
     "execution_count": 8,
     "metadata": {},
     "output_type": "execute_result"
    }
   ],
   "source": [
    "data"
   ]
  },
  {
   "cell_type": "code",
   "execution_count": 9,
   "id": "6edb6f51-730b-4098-a94e-4a69cbc2be62",
   "metadata": {},
   "outputs": [],
   "source": [
    "NUM_WORDS = 10000\n",
    "MAX_TEXT_LEN = 12\n",
    "BATCH_SIZE=64"
   ]
  },
  {
   "cell_type": "markdown",
   "id": "2f3a4ad6-273d-43d7-b1c1-383254b9db9f",
   "metadata": {},
   "source": [
    "##### Create corpus"
   ]
  },
  {
   "cell_type": "code",
   "execution_count": 10,
   "id": "adda7748-4280-485f-8fb0-368558555ddf",
   "metadata": {},
   "outputs": [],
   "source": [
    "tokenizer =keras.preprocessing.text.Tokenizer(num_words=NUM_WORDS)\n",
    "tokenizer.fit_on_texts(texts)"
   ]
  },
  {
   "cell_type": "code",
   "execution_count": 11,
   "id": "c7c03fb5-a847-4cc5-8320-88eea11bc857",
   "metadata": {},
   "outputs": [
    {
     "data": {
      "text/plain": [
       "<keras.preprocessing.text.Tokenizer at 0x284e637e5d0>"
      ]
     },
     "execution_count": 11,
     "metadata": {},
     "output_type": "execute_result"
    }
   ],
   "source": [
    "tokenizer"
   ]
  },
  {
   "cell_type": "code",
   "execution_count": 12,
   "id": "9cb87920-2d00-4ba9-87a8-1e92ec221e1e",
   "metadata": {
    "tags": []
   },
   "outputs": [
    {
     "data": {
      "text/plain": [
       "[('ja', 1),\n",
       " ('f1', 2),\n",
       " ('gp', 3),\n",
       " ('2016', 4),\n",
       " ('2017', 5),\n",
       " ('auton', 6),\n",
       " ('the', 7),\n",
       " ('keskustelua', 8),\n",
       " ('onko', 9),\n",
       " ('yms', 10)]"
      ]
     },
     "execution_count": 12,
     "metadata": {},
     "output_type": "execute_result"
    }
   ],
   "source": [
    "word_count = 10\n",
    "keys = list(tokenizer.word_index.keys())[:word_count]\n",
    "values = list(tokenizer.word_index.values())[:word_count]\n",
    "list(zip(keys, values))"
   ]
  },
  {
   "cell_type": "code",
   "execution_count": 13,
   "id": "2fd34624-f8ae-4f09-9a91-f78ab3c5013e",
   "metadata": {
    "tags": []
   },
   "outputs": [],
   "source": [
    "sequences = tokenizer.texts_to_sequences(texts)\n",
    "X = keras.utils.pad_sequences(sequences, maxlen=MAX_TEXT_LEN)  # Standardization of the number of elements in a vector\n",
    "y = labels.copy()\n",
    "\n"
   ]
  },
  {
   "cell_type": "code",
   "execution_count": 14,
   "id": "2edb555a-2d12-4e71-9320-b43993b1c60e",
   "metadata": {},
   "outputs": [
    {
     "name": "stdout",
     "output_type": "stream",
     "text": [
      "[[  0   0   0 ...   0 535 985]\n",
      " [  0   0   0 ... 466 987 536]\n",
      " [  0   0 465 ... 989 110 492]\n",
      " ...\n",
      " [  0   0   0 ... 233 234 235]\n",
      " [  0   0   0 ... 236   1 237]\n",
      " [  0   0   0 ...   0  17 238]]\n"
     ]
    }
   ],
   "source": [
    "print(X)"
   ]
  },
  {
   "cell_type": "markdown",
   "id": "92f31f24-3ca4-481c-b559-3ebf555262b0",
   "metadata": {},
   "source": [
    "#### Create training, validation and testing datasets"
   ]
  },
  {
   "cell_type": "code",
   "execution_count": 15,
   "id": "2f13ff29-d4fa-4377-a7c8-0f6ac9a7f510",
   "metadata": {},
   "outputs": [
    {
     "name": "stdout",
     "output_type": "stream",
     "text": [
      "Training sample size: 2127\n",
      "Test sample size: 160\n",
      "Val sample size: 912\n"
     ]
    }
   ],
   "source": [
    "X, X_test, y, y_test = train_test_split(X, y, test_size=0.05,random_state=107)\n",
    "X_train, X_val, y_train, y_val = train_test_split(X, y, test_size=0.3, random_state=107)\n",
    "print(f'Training sample size: {len(X_train)}')\n",
    "print(f'Test sample size: {len(X_test)}')\n",
    "print(f'Val sample size: {len(X_val)}')"
   ]
  },
  {
   "cell_type": "code",
   "execution_count": 16,
   "id": "f0680d5b-07e7-474c-8758-44505ac91151",
   "metadata": {},
   "outputs": [
    {
     "data": {
      "text/plain": [
       "(2127, 12)"
      ]
     },
     "execution_count": 16,
     "metadata": {},
     "output_type": "execute_result"
    }
   ],
   "source": [
    "X_train.shape"
   ]
  },
  {
   "cell_type": "code",
   "execution_count": 17,
   "id": "e04ca460-321b-4a14-a15f-45a4b537d7e6",
   "metadata": {},
   "outputs": [
    {
     "data": {
      "text/plain": [
       "5"
      ]
     },
     "execution_count": 17,
     "metadata": {},
     "output_type": "execute_result"
    }
   ],
   "source": [
    "len(y.unique())"
   ]
  },
  {
   "cell_type": "markdown",
   "id": "dcd03ebb-6149-4535-9c38-a5753d34b2f6",
   "metadata": {},
   "source": [
    "#### Neuarl networks for classification"
   ]
  },
  {
   "cell_type": "code",
   "execution_count": 21,
   "id": "0ce74bbb-86fe-4901-956e-d32d01d98ae9",
   "metadata": {},
   "outputs": [],
   "source": [
    "# LSTM model for classification.\n",
    "model = Sequential()\n",
    "model.add(Embedding(NUM_WORDS, 32, input_length=MAX_TEXT_LEN))\n",
    "model.add(Dropout(0.2))\n",
    "model.add(Bidirectional(LSTM(10, return_sequences=True)))\n",
    "model.add(BatchNormalization())\n",
    "model.add(Dropout(0.2))\n",
    "model.add(LSTM(8))\n",
    "model.add(Dense(5))\n",
    "\n",
    "# CNN just for reference. Not suited for text classification\n",
    "model2 = Sequential()\n",
    "model2.add(Embedding(NUM_WORDS, 64, input_length=MAX_TEXT_LEN))\n",
    "model2.add(Dropout(0.2))\n",
    "model2.add(Conv1D(32,\n",
    "                 5,\n",
    "                 padding='same',\n",
    "                 activation='relu',\n",
    "                 strides=1))\n",
    "# we use max pooling:\n",
    "model2.add(GlobalMaxPooling1D())\n",
    "model2.add(Dropout(0.2))\n",
    "model2.add(Dense(32,activation='relu'))\n",
    "model2.add(Dropout(0.2))\n",
    "model2.add(Dense(5))\n",
    "\n"
   ]
  },
  {
   "cell_type": "code",
   "execution_count": 22,
   "id": "7ce1960a-dba6-4341-8afa-dd0508cc9d81",
   "metadata": {},
   "outputs": [
    {
     "name": "stdout",
     "output_type": "stream",
     "text": [
      "Model: \"sequential_1\"\n",
      "_________________________________________________________________\n",
      " Layer (type)                Output Shape              Param #   \n",
      "=================================================================\n",
      " embedding_1 (Embedding)     (None, 12, 32)            320000    \n",
      "                                                                 \n",
      " dropout_1 (Dropout)         (None, 12, 32)            0         \n",
      "                                                                 \n",
      " bidirectional (Bidirectiona  (None, 12, 20)           3440      \n",
      " l)                                                              \n",
      "                                                                 \n",
      " batch_normalization (BatchN  (None, 12, 20)           80        \n",
      " ormalization)                                                   \n",
      "                                                                 \n",
      " dropout_2 (Dropout)         (None, 12, 20)            0         \n",
      "                                                                 \n",
      " lstm_1 (LSTM)               (None, 8)                 928       \n",
      "                                                                 \n",
      " dense (Dense)               (None, 5)                 45        \n",
      "                                                                 \n",
      "=================================================================\n",
      "Total params: 324,493\n",
      "Trainable params: 324,453\n",
      "Non-trainable params: 40\n",
      "_________________________________________________________________\n"
     ]
    }
   ],
   "source": [
    "model.summary()"
   ]
  },
  {
   "cell_type": "code",
   "execution_count": 23,
   "id": "7292b6e1-91ce-43a9-b784-14fb1bc45e0a",
   "metadata": {},
   "outputs": [
    {
     "name": "stdout",
     "output_type": "stream",
     "text": [
      "Model: \"sequential_2\"\n",
      "_________________________________________________________________\n",
      " Layer (type)                Output Shape              Param #   \n",
      "=================================================================\n",
      " embedding_2 (Embedding)     (None, 12, 64)            640000    \n",
      "                                                                 \n",
      " dropout_3 (Dropout)         (None, 12, 64)            0         \n",
      "                                                                 \n",
      " conv1d (Conv1D)             (None, 12, 32)            10272     \n",
      "                                                                 \n",
      " global_max_pooling1d (Globa  (None, 32)               0         \n",
      " lMaxPooling1D)                                                  \n",
      "                                                                 \n",
      " dropout_4 (Dropout)         (None, 32)                0         \n",
      "                                                                 \n",
      " dense_1 (Dense)             (None, 32)                1056      \n",
      "                                                                 \n",
      " dropout_5 (Dropout)         (None, 32)                0         \n",
      "                                                                 \n",
      " dense_2 (Dense)             (None, 5)                 165       \n",
      "                                                                 \n",
      "=================================================================\n",
      "Total params: 651,493\n",
      "Trainable params: 651,493\n",
      "Non-trainable params: 0\n",
      "_________________________________________________________________\n"
     ]
    }
   ],
   "source": [
    "model2.summary()"
   ]
  },
  {
   "cell_type": "markdown",
   "id": "82808102-a3fe-48a6-968c-5f7a9c38681f",
   "metadata": {},
   "source": [
    "#### Creating callback to stop training proses when val_loss stops decreasing\n",
    "#### Also creating class weights to balance data inbalances"
   ]
  },
  {
   "cell_type": "code",
   "execution_count": 24,
   "id": "93f7633d-500e-4210-9f24-5aae1bde359d",
   "metadata": {},
   "outputs": [],
   "source": [
    "callbacks = [\n",
    "    keras.callbacks.EarlyStopping(monitor='val_loss', min_delta=0.01, patience=5, verbose=1,restore_best_weights=True),  \n",
    "    keras.callbacks.ReduceLROnPlateau(monitor='val_loss', factor=0.1, min_delta=0.01, min_lr=1e-10, patience=3, verbose=1, mode='auto')\n",
    "]\n",
    "class_weights={0:1.,1:1.5,2:1.5,3:1.,4:1.5}"
   ]
  },
  {
   "cell_type": "code",
   "execution_count": 25,
   "id": "8a5dd9eb-8135-471c-9bc7-82f14643d29a",
   "metadata": {},
   "outputs": [],
   "source": [
    "model.compile(metrics=['accuracy'], loss=keras.losses.SparseCategoricalCrossentropy(from_logits=True), optimizer='rmsprop')"
   ]
  },
  {
   "cell_type": "markdown",
   "id": "651cce95-cbd9-4938-bb7f-52e8b43b23fb",
   "metadata": {},
   "source": [
    "#### Training the model"
   ]
  },
  {
   "cell_type": "code",
   "execution_count": 26,
   "id": "730bc00a-fd51-4825-a374-a14c9ec89cc9",
   "metadata": {
    "tags": []
   },
   "outputs": [
    {
     "name": "stdout",
     "output_type": "stream",
     "text": [
      "Epoch 1/40\n",
      "34/34 [==============================] - 5s 34ms/step - loss: 1.7821 - accuracy: 0.4673 - val_loss: 1.5785 - val_accuracy: 0.4989 - lr: 0.0010\n",
      "Epoch 2/40\n",
      "34/34 [==============================] - 0s 9ms/step - loss: 1.3149 - accuracy: 0.7015 - val_loss: 1.5379 - val_accuracy: 0.3399 - lr: 0.0010\n",
      "Epoch 3/40\n",
      "34/34 [==============================] - 0s 9ms/step - loss: 0.9823 - accuracy: 0.7870 - val_loss: 1.4930 - val_accuracy: 0.4309 - lr: 0.0010\n",
      "Epoch 4/40\n",
      "34/34 [==============================] - 0s 9ms/step - loss: 0.7287 - accuracy: 0.8505 - val_loss: 1.4271 - val_accuracy: 0.5406 - lr: 0.0010\n",
      "Epoch 5/40\n",
      "34/34 [==============================] - 0s 9ms/step - loss: 0.5503 - accuracy: 0.8994 - val_loss: 1.3641 - val_accuracy: 0.5570 - lr: 0.0010\n",
      "Epoch 6/40\n",
      "34/34 [==============================] - 0s 9ms/step - loss: 0.4230 - accuracy: 0.9304 - val_loss: 1.2800 - val_accuracy: 0.6634 - lr: 0.0010\n",
      "Epoch 7/40\n",
      "34/34 [==============================] - 0s 9ms/step - loss: 0.3127 - accuracy: 0.9577 - val_loss: 1.1339 - val_accuracy: 0.7160 - lr: 0.0010\n",
      "Epoch 8/40\n",
      "34/34 [==============================] - 0s 9ms/step - loss: 0.2443 - accuracy: 0.9643 - val_loss: 0.9912 - val_accuracy: 0.7336 - lr: 0.0010\n",
      "Epoch 9/40\n",
      "34/34 [==============================] - 0s 9ms/step - loss: 0.1772 - accuracy: 0.9826 - val_loss: 0.8767 - val_accuracy: 0.7456 - lr: 0.0010\n",
      "Epoch 10/40\n",
      "34/34 [==============================] - 0s 9ms/step - loss: 0.1401 - accuracy: 0.9873 - val_loss: 0.7534 - val_accuracy: 0.7621 - lr: 0.0010\n",
      "Epoch 11/40\n",
      "34/34 [==============================] - 0s 9ms/step - loss: 0.1073 - accuracy: 0.9901 - val_loss: 0.6707 - val_accuracy: 0.7719 - lr: 0.0010\n",
      "Epoch 12/40\n",
      "34/34 [==============================] - 0s 9ms/step - loss: 0.0847 - accuracy: 0.9934 - val_loss: 0.6397 - val_accuracy: 0.7654 - lr: 0.0010\n",
      "Epoch 13/40\n",
      "34/34 [==============================] - 0s 9ms/step - loss: 0.0636 - accuracy: 0.9953 - val_loss: 0.6467 - val_accuracy: 0.7686 - lr: 0.0010\n",
      "Epoch 14/40\n",
      "34/34 [==============================] - 0s 9ms/step - loss: 0.0512 - accuracy: 0.9958 - val_loss: 0.6343 - val_accuracy: 0.7741 - lr: 0.0010\n",
      "Epoch 15/40\n",
      "29/34 [========================>.....] - ETA: 0s - loss: 0.0395 - accuracy: 0.9973\n",
      "Epoch 15: ReduceLROnPlateau reducing learning rate to 0.00010000000474974513.\n",
      "34/34 [==============================] - 0s 9ms/step - loss: 0.0380 - accuracy: 0.9976 - val_loss: 0.7335 - val_accuracy: 0.7675 - lr: 0.0010\n",
      "Epoch 16/40\n",
      "34/34 [==============================] - 0s 9ms/step - loss: 0.0318 - accuracy: 0.9991 - val_loss: 0.7354 - val_accuracy: 0.7675 - lr: 1.0000e-04\n",
      "Epoch 17/40\n",
      "29/34 [========================>.....] - ETA: 0s - loss: 0.0275 - accuracy: 0.9989Restoring model weights from the end of the best epoch: 12.\n",
      "34/34 [==============================] - 0s 10ms/step - loss: 0.0303 - accuracy: 0.9986 - val_loss: 0.7665 - val_accuracy: 0.7643 - lr: 1.0000e-04\n",
      "Epoch 17: early stopping\n"
     ]
    }
   ],
   "source": [
    "history = model.fit(X_train, y_train, batch_size=BATCH_SIZE, epochs=40, class_weight=class_weights, callbacks=callbacks,validation_data=(X_val,y_val))"
   ]
  },
  {
   "cell_type": "markdown",
   "id": "7652dda5-1612-496a-96eb-621df7bcf531",
   "metadata": {},
   "source": [
    "#### Crating some function to tests the trained model"
   ]
  },
  {
   "cell_type": "code",
   "execution_count": 27,
   "id": "a9bb2245-22ba-4bce-bc95-6a137097a98d",
   "metadata": {},
   "outputs": [],
   "source": [
    "class_names=[\n",
    "\"Prosessorit, ylikellotus, emolevyt ja muistit\",\n",
    "\"Näytönohjaimet\",\n",
    "\"Tallennus\",\n",
    "\"Kotelot ja virtalähteet\",\n",
    "\"Jäähdytys\",\n",
    "\"Konepaketit\",\n",
    "\"Kannettavat tietokoneet\",\n",
    "\"Buildit, setupit, kotelomodifikaatiot & DIY\",\n",
    "\"Oheislaitteet ja muut PC-komponentit\"\n",
    "]\n",
    "class_names2=[\n",
    "\"Autot ja liikenne\",\n",
    "\"Urheilu\",\n",
    "\"TV- & nettisarjat, elokuvat ja musiikki\",\n",
    "\"Ruoka & juoma\",\n",
    "\"Koti ja asuminen\",\n",
    "]"
   ]
  },
  {
   "cell_type": "code",
   "execution_count": 28,
   "id": "f861892e-8377-4e3f-8fd1-907fd593d2fc",
   "metadata": {},
   "outputs": [
    {
     "data": {
      "text/plain": [
       "['Autot ja liikenne',\n",
       " 'Urheilu',\n",
       " 'TV- & nettisarjat, elokuvat ja musiikki',\n",
       " 'Ruoka & juoma',\n",
       " 'Koti ja asuminen']"
      ]
     },
     "execution_count": 28,
     "metadata": {},
     "output_type": "execute_result"
    }
   ],
   "source": [
    "class_names2"
   ]
  },
  {
   "cell_type": "code",
   "execution_count": 29,
   "id": "51774e2a-6f41-4154-be3a-fd049b02b1bc",
   "metadata": {},
   "outputs": [
    {
     "name": "stdout",
     "output_type": "stream",
     "text": [
      "5/5 [==============================] - 1s 2ms/step\n",
      "This text most likely belongs to Autot ja liikenne with a 41.79 percent confidence.\n"
     ]
    }
   ],
   "source": [
    "predictions=model.predict(X_test)\n",
    "score = softmax(predictions[0])\n",
    "print(\n",
    "    \"This text most likely belongs to {} with a {:.2f} percent confidence.\"\n",
    "    .format(class_names2[np.argmax(score)], 100 * np.max(score))\n",
    ")\n"
   ]
  },
  {
   "cell_type": "code",
   "execution_count": 30,
   "id": "9588ec27-068c-491d-8844-f6b0213509bf",
   "metadata": {},
   "outputs": [
    {
     "name": "stdout",
     "output_type": "stream",
     "text": [
      "[ 0.97064465 -0.61894864 -1.1904014  -0.0404917   0.6277128 ]\n"
     ]
    }
   ],
   "source": [
    "print(predictions[0])"
   ]
  },
  {
   "cell_type": "code",
   "execution_count": 31,
   "id": "7dbc40c0-fcc6-40cf-b329-2a74fb53d6ee",
   "metadata": {
    "tags": []
   },
   "outputs": [],
   "source": [
    "def ml_pipeline(text: str,ml_model) -> str:\n",
    "    \"\"\"LSTM model prediction function for this sample\"\"\"\n",
    "    try:\n",
    "        text=base_form(text)\n",
    "        print(text)\n",
    "        sequence = tokenizer.texts_to_sequences([text])\n",
    "        sequence = keras.utils.pad_sequences(sequence, maxlen=MAX_TEXT_LEN)\n",
    "        if sequence.max() == 0:\n",
    "            return 'Enter the words in English'\n",
    "        else:\n",
    "            predict = ml_model.predict(sequence, verbose=0)\n",
    "            score = softmax(predict)\n",
    "            print(predict)\n",
    "            return class_names2[np.argmax(score)]\n",
    "        \n",
    "    except AttributeError as AE:\n",
    "        print(AE)\n",
    "        return 'Enter the text'\n",
    "\n"
   ]
  },
  {
   "cell_type": "code",
   "execution_count": 36,
   "id": "1d0b48f8-184c-4ced-854b-194f6309c15f",
   "metadata": {},
   "outputs": [
    {
     "name": "stdout",
     "output_type": "stream",
     "text": [
      "lentokone vai juna \n",
      "[[ 1.0279696  -0.2977997  -0.41759133 -0.9751146  -0.21358784]]\n"
     ]
    },
    {
     "data": {
      "text/plain": [
       "'Autot ja liikenne'"
      ]
     },
     "execution_count": 36,
     "metadata": {},
     "output_type": "execute_result"
    }
   ],
   "source": [
    " ml_pipeline('Lentokoneella vai junalla',model)"
   ]
  },
  {
   "cell_type": "code",
   "execution_count": 33,
   "id": "e940dfd9-56c1-491f-ad6a-e7965b2bbefe",
   "metadata": {},
   "outputs": [
    {
     "data": {
      "text/plain": [
       "3    908\n",
       "0    903\n",
       "2    581\n",
       "1    417\n",
       "4    390\n",
       "Name: Category, dtype: int64"
      ]
     },
     "execution_count": 33,
     "metadata": {},
     "output_type": "execute_result"
    }
   ],
   "source": [
    "data['Category'].value_counts()"
   ]
  },
  {
   "cell_type": "code",
   "execution_count": null,
   "id": "496771bd-c009-42f9-928e-0ce76fe24353",
   "metadata": {},
   "outputs": [],
   "source": []
  }
 ],
 "metadata": {
  "kernelspec": {
   "display_name": "Python 3 (ipykernel)",
   "language": "python",
   "name": "python3"
  },
  "language_info": {
   "codemirror_mode": {
    "name": "ipython",
    "version": 3
   },
   "file_extension": ".py",
   "mimetype": "text/x-python",
   "name": "python",
   "nbconvert_exporter": "python",
   "pygments_lexer": "ipython3",
   "version": "3.11.0"
  }
 },
 "nbformat": 4,
 "nbformat_minor": 5
}
